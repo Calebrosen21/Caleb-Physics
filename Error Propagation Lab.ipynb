{
 "cells": [
  {
   "cell_type": "code",
   "execution_count": 1,
   "id": "dd100838",
   "metadata": {},
   "outputs": [],
   "source": [
    "import numpy as np\n",
    "#Capitalized letters represent the value\n",
    "#dA,dB,dQ... are uncertainties\n",
    "#little c is always a constant\n",
    "#m and n are exponents"
   ]
  },
  {
   "cell_type": "markdown",
   "id": "2bf42347",
   "metadata": {},
   "source": [
    "Rule 1"
   ]
  },
  {
   "cell_type": "code",
   "execution_count": 2,
   "id": "1ca5703a",
   "metadata": {},
   "outputs": [],
   "source": [
    "def rule1(dA,c):\n",
    "    dQ = dA*c\n",
    "    print(dQ)\n",
    "    return dQ\n"
   ]
  },
  {
   "cell_type": "markdown",
   "id": "7578de73",
   "metadata": {},
   "source": [
    "Rule 2"
   ]
  },
  {
   "cell_type": "code",
   "execution_count": 3,
   "id": "b25c399e",
   "metadata": {},
   "outputs": [],
   "source": [
    "def rule2(A,dA,m,c):\n",
    "    dQ = c*m*A**(m-1)*dA\n",
    "    print(dQ)\n",
    "    return dQ\n"
   ]
  },
  {
   "cell_type": "markdown",
   "id": "b764fc4f",
   "metadata": {},
   "source": [
    "Rule 3"
   ]
  },
  {
   "cell_type": "code",
   "execution_count": 4,
   "id": "240291c7",
   "metadata": {},
   "outputs": [],
   "source": [
    "def rule3(dA,dB):\n",
    "    dQ = np.sqrt(dA**2 + dB**2)\n",
    "    print(dQ)\n",
    "    return dQ\n"
   ]
  },
  {
   "cell_type": "markdown",
   "id": "ab78d152",
   "metadata": {},
   "source": [
    "Rule 4"
   ]
  },
  {
   "cell_type": "code",
   "execution_count": 5,
   "id": "4a06944c",
   "metadata": {},
   "outputs": [
    {
     "name": "stdout",
     "output_type": "stream",
     "text": [
      "0.014048666594034085\n"
     ]
    },
    {
     "data": {
      "text/plain": [
       "0.014048666594034085"
      ]
     },
     "execution_count": 5,
     "metadata": {},
     "output_type": "execute_result"
    }
   ],
   "source": [
    "def rule4(dA,A,m,dB,B,n,Q):\n",
    "    dQ = Q*np.sqrt(((((m*dA)/A)**2)+((n*dB)/B)**2))\n",
    "    print(dQ)\n",
    "    return dQ\n",
    "\n",
    "#Calculation for vi from last week's lab\n",
    "dx = .0063\n",
    "x = 1.5959\n",
    "m = 1\n",
    "dh = .0005\n",
    "h = .99\n",
    "n = 1\n",
    "vi = 3.53\n",
    "rule4(dx,x,m,dh,h,n,vi)"
   ]
  },
  {
   "cell_type": "markdown",
   "id": "a1e731da",
   "metadata": {},
   "source": [
    "My calculations gave an error of .014m/s, which lines up with the output of the function, .014m/s."
   ]
  },
  {
   "cell_type": "markdown",
   "id": "7542bcbc",
   "metadata": {},
   "source": [
    "Standard Deviation and Mean"
   ]
  },
  {
   "cell_type": "code",
   "execution_count": 6,
   "id": "bb9d7378",
   "metadata": {},
   "outputs": [
    {
     "name": "stdout",
     "output_type": "stream",
     "text": [
      "1.1166666666666667 0.10363754503432018\n"
     ]
    }
   ],
   "source": [
    "x = np.array([ 1.1, 1.3, 1.4, 0.9, 0.95, 1.05])\n",
    "\n",
    "avgx = np.average(x)\n",
    "errx = np.std(x)/np.sqrt(3)\n",
    "print(avgx,errx)"
   ]
  },
  {
   "cell_type": "markdown",
   "id": "bf28d52e",
   "metadata": {},
   "source": [
    "The avg of the data set for x =  1.1, 1.3, 1.4, 0.9, 0.95, 1.05 is 1.1, and the error in the data set is .10"
   ]
  },
  {
   "cell_type": "markdown",
   "id": "79c45d31",
   "metadata": {},
   "source": [
    "LATEX functions for rule 3 and dvi"
   ]
  },
  {
   "cell_type": "markdown",
   "id": "eff87aef",
   "metadata": {},
   "source": [
    "$Q = \\sqrt{(\\delta A)^2 + (\\delta B)^2)}$"
   ]
  },
  {
   "cell_type": "markdown",
   "id": "62d94eec",
   "metadata": {},
   "source": [
    "$Q = \\sqrt{((1*\\delta x)/x)^2 +((1*\\delta h)/h)^2)}$"
   ]
  },
  {
   "cell_type": "code",
   "execution_count": null,
   "id": "0d9f766a",
   "metadata": {},
   "outputs": [],
   "source": []
  }
 ],
 "metadata": {
  "kernelspec": {
   "display_name": "Python 3 (ipykernel)",
   "language": "python",
   "name": "python3"
  },
  "language_info": {
   "codemirror_mode": {
    "name": "ipython",
    "version": 3
   },
   "file_extension": ".py",
   "mimetype": "text/x-python",
   "name": "python",
   "nbconvert_exporter": "python",
   "pygments_lexer": "ipython3",
   "version": "3.9.12"
  }
 },
 "nbformat": 4,
 "nbformat_minor": 5
}
